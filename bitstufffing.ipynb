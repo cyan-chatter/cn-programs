{
 "cells": [
  {
   "cell_type": "markdown",
   "id": "d2acaefb-ec50-4e45-bb3f-67d6e111fd22",
   "metadata": {},
   "source": [
    "## Bit Stuffing"
   ]
  },
  {
   "cell_type": "code",
   "execution_count": 9,
   "id": "bb7e1e2a-7560-4e5f-8ef3-3c6001d38f8b",
   "metadata": {},
   "outputs": [
    {
     "name": "stdin",
     "output_type": "stream",
     "text": [
      "Enter Bit Sequence 110011010101010111110101011011111010101\n"
     ]
    },
    {
     "name": "stdout",
     "output_type": "stream",
     "text": [
      "11001101010101011111001010110111110010101\n"
     ]
    }
   ],
   "source": [
    "bs = input(\"Enter Bit Sequence\")\n",
    "def bit_stuffing(bs):\n",
    "    seplist = bs.split(\"11111\")\n",
    "    stuffed = \"111110\".join(seplist)\n",
    "    return stuffed\n",
    "print(bit_stuffing(bs))"
   ]
  }
 ],
 "metadata": {
  "kernelspec": {
   "display_name": "Python 3",
   "language": "python",
   "name": "python3"
  },
  "language_info": {
   "codemirror_mode": {
    "name": "ipython",
    "version": 3
   },
   "file_extension": ".py",
   "mimetype": "text/x-python",
   "name": "python",
   "nbconvert_exporter": "python",
   "pygments_lexer": "ipython3",
   "version": "3.9.7"
  }
 },
 "nbformat": 4,
 "nbformat_minor": 5
}
