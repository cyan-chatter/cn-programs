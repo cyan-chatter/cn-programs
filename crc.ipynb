{
 "cells": [
  {
   "cell_type": "code",
   "execution_count": 4,
   "id": "e3269914-4ab3-4bd5-b2d7-36e199f012e7",
   "metadata": {},
   "outputs": [
    {
     "name": "stdin",
     "output_type": "stream",
     "text": [
      "Enter the Data 10011101\n",
      "Enter the Generator 1001\n"
     ]
    },
    {
     "name": "stdout",
     "output_type": "stream",
     "text": [
      "Encoded Data:  10011101100\n"
     ]
    },
    {
     "name": "stdin",
     "output_type": "stream",
     "text": [
      "Enter the Received message :  10011101100\n"
     ]
    },
    {
     "name": "stdout",
     "output_type": "stream",
     "text": [
      "Correct Received, Original Message is:  10011101\n"
     ]
    }
   ],
   "source": [
    "def xor(a, b):\n",
    "\tresult = []\n",
    "\tfor i in range(1, len(a)):\n",
    "\t\tif a[i] == b[i]:\n",
    "\t\t\tresult.append('0')\n",
    "\t\telse:\n",
    "\t\t\tresult.append('1')\n",
    "\treturn ''.join(result)\n",
    "\n",
    "def mod2div(dvd, dvs):\n",
    "\tcovered = len(dvs)\n",
    "\tpicked = dvd[0 : covered]\n",
    "\twhile covered < len(dvd):\n",
    "\t\tif picked[0] == '1': picked = xor(picked,dvs) + dvd[covered]\n",
    "\t\telse: picked = xor(picked,'0'*covered) + dvd[covered]\n",
    "\t\tcovered += 1\n",
    "\t# For the last bit, done manually so that index does not go out of bounds\n",
    "\tif picked[0] == '1': picked = xor(picked,dvs)\n",
    "\telse: picked = xor(picked,'0'*covered)\n",
    "\t#print(\"Remainder: \", picked)\n",
    "\treturn picked    \n",
    "    \n",
    "def crc(data, gen):\n",
    "\tappended = data + '0'*(len(gen)-1)\n",
    "\tremainder = mod2div(appended, gen)\n",
    "\tencoded = data + remainder\n",
    "\tprint(\"Encoded Data: \",encoded)\n",
    "\n",
    "data = input(\"Enter the Data\")\n",
    "gen = input(\"Enter the Generator\")\n",
    "crc(data, gen)\n",
    "\n",
    "receive = input(\"Enter the Received message : \")\n",
    "\n",
    "if int(mod2div(receive, gen)) == 0:\n",
    "    print(\"Correct Received, Original Message is: \", receive[:-(len(gen)-1)])\n",
    "else:\n",
    "    print(\"Wrong Data\")"
   ]
  }
 ],
 "metadata": {
  "kernelspec": {
   "display_name": "Python 3",
   "language": "python",
   "name": "python3"
  },
  "language_info": {
   "codemirror_mode": {
    "name": "ipython",
    "version": 3
   },
   "file_extension": ".py",
   "mimetype": "text/x-python",
   "name": "python",
   "nbconvert_exporter": "python",
   "pygments_lexer": "ipython3",
   "version": "3.9.7"
  }
 },
 "nbformat": 4,
 "nbformat_minor": 5
}
