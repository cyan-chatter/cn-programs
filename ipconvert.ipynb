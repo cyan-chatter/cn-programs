{
 "cells": [
  {
   "cell_type": "code",
   "execution_count": 7,
   "id": "57a9c9d0-925b-4aca-8aec-e9ea02387ea9",
   "metadata": {},
   "outputs": [
    {
     "name": "stdout",
     "output_type": "stream",
     "text": [
      "1. Bin to Dec\n",
      "2. Dec to Bin\n"
     ]
    },
    {
     "name": "stdin",
     "output_type": "stream",
     "text": [
      "Choose an option:  2\n",
      "Enter the ip address:  192.111.100.000\n"
     ]
    },
    {
     "name": "stdout",
     "output_type": "stream",
     "text": [
      "Ip address in Binary: 11000000011011110110010000000000\n"
     ]
    }
   ],
   "source": [
    "print(\"1. Bin to Dec\\n2. Dec to Bin\")\n",
    "n = input(\"Choose an option: \")\n",
    "ip = input(\"Enter the ip address: \")\n",
    "if n=='1':\n",
    "    ip_split = [ip[i:i+8] for i in range(0,25,8)]\n",
    "    ip_split = [str(int(x,2)) for x in ip_split]\n",
    "    print(\"Ip address in Decimal:\",'.'.join(ip_split))\n",
    "elif n=='2':\n",
    "    ip_split = [int(x) for x in ip.split('.')]\n",
    "    ip_split = [bin(num)[2:] for num in ip_split]\n",
    "    ip_split = [x.zfill(8) for x in ip_split]\n",
    "    print(\"Ip address in Binary:\",''.join(ip_split))\n",
    "else:\n",
    "    print(\"Wrong Choice\")"
   ]
  },
  {
   "cell_type": "code",
   "execution_count": 12,
   "id": "6ed71c35-91ec-4cfa-80f5-7dd21705fea0",
   "metadata": {},
   "outputs": [
    {
     "name": "stdout",
     "output_type": "stream",
     "text": [
      "1. Oct to Dec\n",
      "2. Dec to Oct\n"
     ]
    },
    {
     "name": "stdin",
     "output_type": "stream",
     "text": [
      "Choose an option:  1\n",
      "Enter the ip address:  216.40.51.145\n"
     ]
    },
    {
     "name": "stdout",
     "output_type": "stream",
     "text": [
      "Ip address in Decimal: 142.32.41.101\n"
     ]
    }
   ],
   "source": [
    "print(\"1. Oct to Dec\\n2. Dec to Oct\")\n",
    "n = input(\"Choose an option: \")\n",
    "ip = input(\"Enter the ip address: \")\n",
    "\n",
    "if n==\"1\":\n",
    "    ip_split = ip.split('.');\n",
    "    ip_split = [str(int(x,8)) for x in ip_split]\n",
    "    print(\"Ip address in Decimal:\",'.'.join(ip_split))\n",
    "elif n=='2':\n",
    "    ip_split = [int(x) for x in ip.split('.')]\n",
    "    ip_split = [oct(num)[2:] for num in ip_split]\n",
    "    print(\"Ip address in Octal:\",'.'.join(ip_split))\n",
    "else:\n",
    "    print(\"Wrong Choice\")"
   ]
  }
 ],
 "metadata": {
  "kernelspec": {
   "display_name": "Python 3",
   "language": "python",
   "name": "python3"
  },
  "language_info": {
   "codemirror_mode": {
    "name": "ipython",
    "version": 3
   },
   "file_extension": ".py",
   "mimetype": "text/x-python",
   "name": "python",
   "nbconvert_exporter": "python",
   "pygments_lexer": "ipython3",
   "version": "3.9.7"
  }
 },
 "nbformat": 4,
 "nbformat_minor": 5
}
