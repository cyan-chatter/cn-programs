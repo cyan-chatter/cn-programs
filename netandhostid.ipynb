{
 "cells": [
  {
   "cell_type": "code",
   "execution_count": 26,
   "id": "07a9a527-1dac-4bf9-8d36-4c7512af047d",
   "metadata": {},
   "outputs": [
    {
     "name": "stdin",
     "output_type": "stream",
     "text": [
      "Enter The IP Address\n",
      " 198.63.120.121\n"
     ]
    }
   ],
   "source": [
    "ip = input(\"Enter The IP Address\\n\")"
   ]
  },
  {
   "cell_type": "code",
   "execution_count": 27,
   "id": "807117cc-7bb0-49a2-83f9-1b144e64753f",
   "metadata": {},
   "outputs": [
    {
     "data": {
      "text/plain": [
       "['198', '63', '120', '121']"
      ]
     },
     "execution_count": 27,
     "metadata": {},
     "output_type": "execute_result"
    }
   ],
   "source": [
    "octets = ip.split(\".\")\n",
    "octets"
   ]
  },
  {
   "cell_type": "code",
   "execution_count": 28,
   "id": "df7c8dca-be72-4ae3-aa8a-3f5f25aa20aa",
   "metadata": {},
   "outputs": [
    {
     "data": {
      "text/plain": [
       "198"
      ]
     },
     "execution_count": 28,
     "metadata": {},
     "output_type": "execute_result"
    }
   ],
   "source": [
    "first_octet = int(octets[0])\n",
    "first_octet"
   ]
  },
  {
   "cell_type": "code",
   "execution_count": 29,
   "id": "281a8ecc-341f-40d2-a4f8-54733944879d",
   "metadata": {},
   "outputs": [
    {
     "data": {
      "text/plain": [
       "'C'"
      ]
     },
     "execution_count": 29,
     "metadata": {},
     "output_type": "execute_result"
    }
   ],
   "source": [
    "ip_class = \"\"\n",
    "if(first_octet < 128): \n",
    "    ip_class = \"A\"\n",
    "    i = 1\n",
    "elif(first_octet < 192): \n",
    "    ip_class = \"B\"\n",
    "    i = 2\n",
    "elif(first_octet < 224): \n",
    "    ip_class = \"C\"\n",
    "    i = 3\n",
    "elif(first_octet < 240):\n",
    "    ip_class = \"D\"\n",
    "    i = 4\n",
    "else:\n",
    "    ip_class = \"E\"\n",
    "    i = 4\n",
    "ip_class"
   ]
  },
  {
   "cell_type": "code",
   "execution_count": 30,
   "id": "1b139214-8a9f-4903-9346-0b77e51de09d",
   "metadata": {},
   "outputs": [
    {
     "data": {
      "text/plain": [
       "'198.63.120'"
      ]
     },
     "execution_count": 30,
     "metadata": {},
     "output_type": "execute_result"
    }
   ],
   "source": [
    "net_id = \".\".join([octets[x] for x in range(0,i)])\n",
    "net_id"
   ]
  },
  {
   "cell_type": "code",
   "execution_count": 31,
   "id": "603128ad-8429-4df1-bd9e-aa2c7cdffc48",
   "metadata": {},
   "outputs": [
    {
     "data": {
      "text/plain": [
       "'121'"
      ]
     },
     "execution_count": 31,
     "metadata": {},
     "output_type": "execute_result"
    }
   ],
   "source": [
    "host_id = \".\".join([octets[x] for x in range(i,4)])\n",
    "host_id"
   ]
  },
  {
   "cell_type": "code",
   "execution_count": 38,
   "id": "409720fd-5b7b-476b-9ddd-dd64ccdf34d7",
   "metadata": {},
   "outputs": [
    {
     "name": "stdout",
     "output_type": "stream",
     "text": [
      "Class:  C\n",
      "Network ID:  198.63.120\n",
      "Host ID:  121\n"
     ]
    }
   ],
   "source": [
    "print(\"Class: \", ip_class)\n",
    "print(\"Network ID: \", net_id)\n",
    "if ip_class != \"D\" and ip_class != \"E\": print(\"Host ID: \", host_id)  "
   ]
  },
  {
   "cell_type": "markdown",
   "id": "114f5e23-ea75-412e-b878-cb503a11afab",
   "metadata": {},
   "source": [
    "#### Combined Code Block"
   ]
  },
  {
   "cell_type": "code",
   "execution_count": 42,
   "id": "65b78035-2d27-4f23-b973-fc2e9357d7cc",
   "metadata": {},
   "outputs": [
    {
     "name": "stdin",
     "output_type": "stream",
     "text": [
      "Enter The IP Address\n",
      " 130.144.201.88\n"
     ]
    },
    {
     "name": "stdout",
     "output_type": "stream",
     "text": [
      "Class:  B\n",
      "Network ID:  130.144\n",
      "Host ID:  201.88\n"
     ]
    }
   ],
   "source": [
    "ip = input(\"Enter The IP Address\\n\")\n",
    "octets = ip.split(\".\")\n",
    "first_octet = int(octets[0])\n",
    "ip_class = \"\"\n",
    "if(first_octet < 128): \n",
    "    ip_class = \"A\"\n",
    "    i = 1\n",
    "elif(first_octet < 192): \n",
    "    ip_class = \"B\"\n",
    "    i = 2\n",
    "elif(first_octet < 224): \n",
    "    ip_class = \"C\"\n",
    "    i = 3\n",
    "elif(first_octet < 240):\n",
    "    ip_class = \"D\"\n",
    "    i = 4\n",
    "else:\n",
    "    ip_class = \"E\"\n",
    "    i = 4\n",
    "net_id = \".\".join([octets[x] for x in range(0,i)])\n",
    "host_id = \".\".join([octets[x] for x in range(i,4)])\n",
    "print(\"Class: \", ip_class)\n",
    "print(\"Network ID: \", net_id)\n",
    "if ip_class != \"D\" and ip_class != \"E\": print(\"Host ID: \", host_id)"
   ]
  }
 ],
 "metadata": {
  "kernelspec": {
   "display_name": "Python 3",
   "language": "python",
   "name": "python3"
  },
  "language_info": {
   "codemirror_mode": {
    "name": "ipython",
    "version": 3
   },
   "file_extension": ".py",
   "mimetype": "text/x-python",
   "name": "python",
   "nbconvert_exporter": "python",
   "pygments_lexer": "ipython3",
   "version": "3.9.7"
  }
 },
 "nbformat": 4,
 "nbformat_minor": 5
}
